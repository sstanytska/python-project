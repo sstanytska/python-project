{
 "cells": [
  {
   "cell_type": "code",
   "execution_count": 11,
   "metadata": {},
   "outputs": [
    {
     "name": "stdout",
     "output_type": "stream",
     "text": [
      "[{'firstname': 'kevining', 'lastname': 'Wick', 'username': 'keving', 'gender': 'male', 'status': True, 'member': 'Fuchikorp', 'email': 'keviningWick@Fuchikorp.com'}]\n",
      "[{'firstname': 'Emma', 'lastname': 'Gipson', 'username': 'cutiebun', 'gender': 'female', 'status': False, 'member': 'Apple', 'email': 'EmmaGipson@Apple.com'}]\n"
     ]
    }
   ],
   "source": [
    "female = [ ]\n",
    "male = []\n",
    "user1 = {\n",
    "    'firstname' : 'kevining',\n",
    "    'lastname' : 'Wick',\n",
    "    'username' : 'keving',\n",
    "    'gender' : 'male',\n",
    "    'status' : True,\n",
    "    'member' : 'Fuchikorp',\n",
    "\n",
    "}\n",
    "user2 = {\n",
    "    'firstname' : 'Emma',\n",
    "    'lastname' : 'Gipson',\n",
    "    'username' : 'cutiebun',\n",
    "    'gender' : 'female',\n",
    "    'status' : False,\n",
    "    'member' : 'Apple',\n",
    "}\n",
    "\n",
    "if 'fuchicorp' or 'apple' in user1['member']:\n",
    "    email = user1['firstname'] + user1['lastname'] + '@' + user1['member'] + '.com'\n",
    "    user1.update({'email': email})\n",
    "          \n",
    "if 'fuchicorp' or 'apple' in user1['member']:\n",
    "    email = user2['firstname'] + user2['lastname'] + '@' + user2['member'] + '.com'\n",
    "    user2.update({'email': email})\n",
    "          \n",
    "if user1['gender'] == 'male':\n",
    "    female.append(user1)\n",
    "else: male.append(user2)\n",
    "    \n",
    "if user2['gender'] == 'female':\n",
    "    male.append(user2)\n",
    "else: male.append(user1)\n",
    "    \n",
    "print(female)\n",
    "print(male)\n"
   ]
  },
  {
   "cell_type": "code",
   "execution_count": null,
   "metadata": {},
   "outputs": [],
   "source": []
  }
 ],
 "metadata": {
  "kernelspec": {
   "display_name": "Python 3",
   "language": "python",
   "name": "python3"
  },
  "language_info": {
   "codemirror_mode": {
    "name": "ipython",
    "version": 3
   },
   "file_extension": ".py",
   "mimetype": "text/x-python",
   "name": "python",
   "nbconvert_exporter": "python",
   "pygments_lexer": "ipython3",
   "version": "3.6.5"
  }
 },
 "nbformat": 4,
 "nbformat_minor": 2
}
