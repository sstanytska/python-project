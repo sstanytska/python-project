{
 "cells": [
  {
   "cell_type": "code",
   "execution_count": 10,
   "metadata": {},
   "outputs": [
    {
     "name": "stdout",
     "output_type": "stream",
     "text": [
      "[{'username': 'emma-11', 'firstname': 'Emma', 'lastname': 'Lopes', 'password': 'redhat'}, {'username': 'frank', 'firstname': 'Frank', 'lastname': 'Smith', 'password': 'frank2019'}]\n",
      "emma-11\n",
      "Frank\n"
     ]
    },
    {
     "data": {
      "text/plain": [
       "False"
      ]
     },
     "execution_count": 10,
     "metadata": {},
     "output_type": "execute_result"
    }
   ],
   "source": [
    "github_users = []\n",
    "user_emma = {\n",
    "    'username' : 'emma-11',\n",
    "    'firstname' : 'Emma',\n",
    "    'lastname' : 'Lopes',\n",
    "    'password' : 'redhat'\n",
    "}\n",
    "\n",
    "user_smith = {\n",
    "    'username' : 'frank',\n",
    "    'firstname' : 'Frank',\n",
    "    'lastname' : 'Smith',\n",
    "    'password' : 'frank2019'\n",
    "}\n",
    "github_users.append(user_emma)\n",
    "\n",
    "github_users.append(user_smith)\n",
    "print(github_users)\n",
    "print(github_users[0]['username'])\n",
    "print(github_users[1]['firstname']) is 'Frank'"
   ]
  },
  {
   "cell_type": "code",
   "execution_count": null,
   "metadata": {},
   "outputs": [],
   "source": []
  }
 ],
 "metadata": {
  "kernelspec": {
   "display_name": "Python 3",
   "language": "python",
   "name": "python3"
  },
  "language_info": {
   "codemirror_mode": {
    "name": "ipython",
    "version": 3
   },
   "file_extension": ".py",
   "mimetype": "text/x-python",
   "name": "python",
   "nbconvert_exporter": "python",
   "pygments_lexer": "ipython3",
   "version": "3.6.5"
  }
 },
 "nbformat": 4,
 "nbformat_minor": 2
}
