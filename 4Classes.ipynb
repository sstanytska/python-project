{
 "cells": [
  {
   "cell_type": "code",
   "execution_count": null,
   "metadata": {},
   "outputs": [],
   "source": [
    "#for user in users:\n",
    "#   print(user)\n",
    "#for example in range(1,4)\n",
    "#    print(example, hello)\n",
    "#users = ['abdul', 'nadira', 'zhanna']\n",
    "#for user in users:\n",
    "#    print(user)\n",
    "    \n",
    "#for item in range(0, 10, 3):\n",
    "#    print('Number ',item)\n",
    "    \n",
    "data = [\n",
    "    {\n",
    "    \"avatar\": \"https://s3.amazonaws.com/uifaces/faces/twitter/marcoramires/128.jpg\",\n",
    "    \"first_name\": \"Eve\",\n",
    "    \"id\": 4,\n",
    "    \"last_name\": \"Holt\"\n",
    "    },\n",
    "    {\n",
    "    \"avatar\": \"https://s3.amazonaws.com/uifaces/faces/twitter/stephenmoon/128.jpg\",\n",
    "    \"first_name\": \"Charles\",\n",
    "    \"id\": 5,\n",
    "    \"last_name\": \"Morris\"\n",
    "    },\n",
    "    {\n",
    "    \"avatar\": \"https://s3.amazonaws.com/uifaces/faces/twitter/bigmancho/128.jpg\",\n",
    "    \"first_name\": \"Tracey\",\n",
    "    \"id\": 6,\n",
    "    \"last_name\": \"Ramos\"\n",
    "    }\n",
    "]\n",
    "for user in data:\n",
    "    if user['first_name'] == 'Charles':\n",
    "        print(user)\n",
    "#print(data[2])\n",
    "\n",
    "while True: \n",
    "    print('hello')\n",
    "    break\n"
   ]
  },
  {
   "cell_type": "code",
   "execution_count": null,
   "metadata": {},
   "outputs": [],
   "source": [
    "my_string = 'This is my string'\n",
    "print(my_string)\n",
    "\n",
    "for item in my_string.split(' '):\n",
    "    if 'This' == item:\n",
    "        print('Yes it is')\n",
    "    \n",
    "# if 'This' in my_string:\n",
    "#     print('Yes it is')\n",
    "for tagname in range(0, 4):\n",
    "    print(f'Create instance with tag example-{tagname}')"
   ]
  },
  {
   "cell_type": "code",
   "execution_count": null,
   "metadata": {},
   "outputs": [],
   "source": [
    "import os\n",
    "users = ['Anna', 'Zhanna', 'Abdul', 'Alibek']\n",
    "my_pub_key = 'ssh-rsa key'\n",
    "for user in users:\n",
    "    print(user)\n",
    "    os.system(f'useradd {user}')\n",
    "    os.system(f'mkdir  /home/{user}/.ssh')\n",
    "    os.system(f'echo {my_pub_key}  >>  /home/{user}/.ssh/authorized_keys')"
   ]
  },
  {
   "cell_type": "code",
   "execution_count": null,
   "metadata": {},
   "outputs": [],
   "source": [
    "!cat /etc/passwd"
   ]
  },
  {
   "cell_type": "code",
   "execution_count": null,
   "metadata": {},
   "outputs": [],
   "source": [
    "for user in data:\n",
    "    if \"Sofia\" == user['first_name']:\n",
    "        print('User is founed')\n",
    "else:\n",
    "    print('User can not find')"
   ]
  },
  {
   "cell_type": "code",
   "execution_count": null,
   "metadata": {},
   "outputs": [],
   "source": [
    "student = {'username' : 'sstanytska',\n",
    "           'password' : 'redhat',\n",
    "           'classes' : ['Python', 'Jenkins', 'Ansible']\n",
    "          }\n",
    "print('######################')\n",
    "print(f'##{student[\"username\"]}')\n",
    "for item in student['classes']:\n",
    "      print(item)"
   ]
  },
  {
   "cell_type": "code",
   "execution_count": 3,
   "metadata": {},
   "outputs": [
    {
     "name": "stdout",
     "output_type": "stream",
     "text": [
      "Please enter your Full name :sofia\n",
      "Pleasr enter your username :SOfsd\n",
      "Please enter your password :redhat\n",
      "User has been created!\n",
      "Do you want to stop it yes/no: y\n",
      "Bye :-) \n"
     ]
    }
   ],
   "source": [
    "dataBase = []\n",
    "import time\n",
    "yesanswer = ['Yes', 'YES', 'y', 'Y', 'YeS', 'yes']\n",
    "while True:\n",
    "    studentObject = {}\n",
    "    studentObject['full_name'] = input('Please enter your Full name :')\n",
    "    studentObject['username'] = input('Pleasr enter your username :').lower()\n",
    "    studentObject['password'] = input('Please enter your password :')\n",
    "    time.sleep(2)\n",
    "    dataBase.append(studentObject)\n",
    "    print('User has been created!')\n",
    "    answer = input('Do you want to stop it yes/no: ')\n",
    "    if answer in yesanswer:\n",
    "        print('Bye :-) ')\n",
    "        break\n",
    "    "
   ]
  },
  {
   "cell_type": "code",
   "execution_count": 4,
   "metadata": {},
   "outputs": [
    {
     "name": "stdout",
     "output_type": "stream",
     "text": [
      "[{'full_name': 'Sofia', 'username': 'sofsd', 'password': 'redhat'}]\n"
     ]
    }
   ],
   "source": [
    "print(dataBase)"
   ]
  },
  {
   "cell_type": "code",
   "execution_count": null,
   "metadata": {},
   "outputs": [],
   "source": []
  }
 ],
 "metadata": {
  "kernelspec": {
   "display_name": "Python 3",
   "language": "python",
   "name": "python3"
  }
 },
 "nbformat": 4,
 "nbformat_minor": 2
}
