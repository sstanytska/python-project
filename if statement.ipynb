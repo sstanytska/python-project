{
 "cells": [
  {
   "cell_type": "code",
   "execution_count": 4,
   "metadata": {},
   "outputs": [
    {
     "name": "stdout",
     "output_type": "stream",
     "text": [
      "Something wrong!!!\n"
     ]
    }
   ],
   "source": [
    "door = 'bla'\n",
    "if door == 'open':\n",
    "    print ('Yes, you can go!!!')\n",
    "\n",
    "elif door == 'close':\n",
    "    print('No, you can not go!!!')    \n",
    "    \n",
    "else: \n",
    "    print ('Something wrong!!!')\n",
    "    \n"
   ]
  },
  {
   "cell_type": "code",
   "execution_count": 28,
   "metadata": {},
   "outputs": [
    {
     "name": "stdout",
     "output_type": "stream",
     "text": [
      "What is your name? :sofia\n",
      "Pryvit Sofia\n"
     ]
    }
   ],
   "source": [
    "name = input('What is your name? :') \n",
    "name = name.capitalize() \n",
    "\n",
    "if name == 'Anna':\n",
    "    print('Privet ' + name)\n",
    "elif name == 'Sofia':\n",
    "    print('Pryvit ' + name)\n",
    "else:\n",
    "    print ('Goodbuy ' + name)\n",
    "#print('Hello ' + name)"
   ]
  },
  {
   "cell_type": "code",
   "execution_count": 27,
   "metadata": {},
   "outputs": [
    {
     "name": "stdout",
     "output_type": "stream",
     "text": [
      "Anaa\n"
     ]
    }
   ],
   "source": [
    "print(name)"
   ]
  },
  {
   "cell_type": "code",
   "execution_count": 45,
   "metadata": {},
   "outputs": [
    {
     "name": "stdout",
     "output_type": "stream",
     "text": [
      "What is your name? : Olena\n",
      "You are the best Olena\n"
     ]
    }
   ],
   "source": [
    "black_list = ['Abdul','Sofia', 'Dima']\n",
    "white_list = ['Olena', 'Marta']\n",
    "student = input('What is your name? : ').capitalize()\n",
    "student = student.capitalize()\n",
    "if student in black_list:\n",
    "    print('Sorry ' + student + ' you can not come to class')\n",
    "\n",
    "if student in white_list:\n",
    "    print('You are the best ' + student)\n",
    "    \n",
    "else:\n",
    "    print('Welkom to our class ' + student)"
   ]
  },
  {
   "cell_type": "code",
   "execution_count": 55,
   "metadata": {},
   "outputs": [
    {
     "name": "stdout",
     "output_type": "stream",
     "text": [
      "What is your name? : sos\n",
      "What is your birthday <year>? : 1994\n",
      "Your name is Sos, Year age is : 25\n"
     ]
    }
   ],
   "source": [
    "name = input('What is your name? : ').capitalize()\n",
    "year = int(input('What is your birthday <year>? : '))\n",
    "age = 2019  - year\n",
    "print(f'Your name is {name}, Year age is : {age}')"
   ]
  },
  {
   "cell_type": "code",
   "execution_count": 53,
   "metadata": {},
   "outputs": [
    {
     "data": {
      "text/plain": [
       "int"
      ]
     },
     "execution_count": 53,
     "metadata": {},
     "output_type": "execute_result"
    }
   ],
   "source": [
    "type(year)"
   ]
  },
  {
   "cell_type": "code",
   "execution_count": 62,
   "metadata": {},
   "outputs": [
    {
     "name": "stdout",
     "output_type": "stream",
     "text": [
      "Door is close!!!\n"
     ]
    }
   ],
   "source": [
    "door = False\n",
    "if door:\n",
    "    print('Door is open!!!')\n",
    "else:\n",
    "    print('Door is close!!!')\n",
    "\n",
    "    "
   ]
  },
  {
   "cell_type": "code",
   "execution_count": 83,
   "metadata": {},
   "outputs": [
    {
     "name": "stdout",
     "output_type": "stream",
     "text": [
      "########################################\n",
      "######## Information about Sofia Moon##\n",
      "########################################\n",
      "## Username: ssharik\n",
      "## Full name: Sofia Moon\n",
      "## User can login\n",
      "## User is attends Python class\n"
     ]
    }
   ],
   "source": [
    "student = {\n",
    "    'first_name': 'Sofia', \n",
    "    'last_name': 'Moon', \n",
    "    'username': 'ssharik',\n",
    "    'password': 'redhat',\n",
    "    'status': True,\n",
    "    'classes': ['Python', 'Terraform', 'Ansible']\n",
    "}\n",
    "print(f'########################################')\n",
    "print(f'######## Information about {student[\"first_name\"]} {student[\"last_name\"]}##')\n",
    "print(f'########################################')\n",
    "print(f'## Username: {student[\"username\"]}')\n",
    "print(f'## Full name: {student[\"first_name\"]} {student[\"last_name\"]}')\n",
    "\n",
    "if student['status']:\n",
    "      print(f'## User can login')\n",
    "else:\n",
    "      print('## User can not login')\n",
    "      \n",
    "if 'Python' in student['classes']:\n",
    "      print(f'## User is attends Python class')\n",
    "elif 'Terraform' in student['classes']:\n",
    "       print(f'## User is attends Terraform class')\n",
    "elif 'Ansible' in student['classes']:\n",
    "       print(f'## User is attends Ansible class')\n"
   ]
  },
  {
   "cell_type": "code",
   "execution_count": null,
   "metadata": {},
   "outputs": [],
   "source": []
  }
 ],
 "metadata": {
  "kernelspec": {
   "display_name": "Python 3",
   "language": "python",
   "name": "python3"
  },
  "language_info": {
   "codemirror_mode": {
    "name": "ipython",
    "version": 3
   },
   "file_extension": ".py",
   "mimetype": "text/x-python",
   "name": "python",
   "nbconvert_exporter": "python",
   "pygments_lexer": "ipython3",
   "version": "3.6.5"
  }
 },
 "nbformat": 4,
 "nbformat_minor": 2
}
